{
 "cells": [
  {
   "cell_type": "markdown",
   "id": "290b52e3",
   "metadata": {},
   "source": [
    "## 1. Basic Protein sequence handling \n",
    "Load, preprocess, and visualize protein sequences."
   ]
  },
  {
   "cell_type": "markdown",
   "id": "1c120fc4",
   "metadata": {
    "vscode": {
     "languageId": "plaintext"
    }
   },
   "source": [
    "## Task\n",
    "Load protein sequences from a FASTA file using Biopython.\n",
    "\n",
    "Clean and tokenize sequences (remove unknowns, ensure valid amino acids).\n",
    "\n",
    "Calculate sequence length, amino acid frequency."
   ]
  },
  {
   "cell_type": "code",
   "execution_count": 3,
   "id": "0637fecd",
   "metadata": {},
   "outputs": [],
   "source": [
    "from Bio import SeqIO\n",
    "from collections import Counter\n",
    "import matplotlib.pyplot as plt"
   ]
  },
  {
   "cell_type": "code",
   "execution_count": 12,
   "id": "40a5d76f",
   "metadata": {},
   "outputs": [
    {
     "data": {
      "text/plain": [
       "['MDITIHNPLIRRPLFSWLAPSRIFDQIFGEHLQESELLPASPSLSPFLMRSPIFRMPSWLETGLSEMRLEKDKFSVNLDVKHFSPEELKVKVLGDMVEIHGKHEERQDEHGFIAREFNRKYRIPADVDPLTITSSLSLDGVLTVSAPRKQSDVPERSIPITREEKPAIAGAQRK',\n",
       " 'MDIAIHHPWIRRPFFPFHSPSRLFDQFFGEHLLESDLFPASTSLSPFYLRPPSFLRAPSWIDTGLSEMRLEKDRFSVNLDVKHFSPEELKVKVLGDVIEVHGKHEERQDEHGFISREFHRKYRIPADVDPLAITSSLSSDGVLTVNGPRKQASGPERTIPITREEKPAVTAAPKK',\n",
       " 'MDITIHNPLVRRPLFSWLTPSRIFDQIFGEHLQESELLPTSPSLSPFLMRSPFFRMPSWLETGLSEMRLEKDKFSVNLDVKHFSPEELKVKVLGDMIEIHGKHEERQDEHGFIAREFSRKYRIPADVDPLTITSSLSLDGVLTVSAPRKQSDVPERSIPITREEKPAIAGSQRK',\n",
       " 'MDIAIHHPWIRRPFFPFHSPSRLFDQFFGEHLLESDLFPTSTSLSPFYLRPPSFLRAPSWFDTGLSEMRLEKDRFSVNLDVKHFSPEELKVKVLGDVIEVHGKHEERQDEHGFISREFHRKYRIPADVDPLTITSSLSSDGVLTVNGPRKQVSGPERTIPITREEKPAVTAAPKK',\n",
       " 'MDIAIHHPWIRRPFFPFHSPSRLFDQFFGEHLLESDLFSTATSLSPFYLRPPSFLRAPSWIDTGLSEMRMEKDRFSVNLDVKHFSPEELKVKVLGDVVEVHGKHEERQDEHGFISREFHRKYRIPADVDPLTITSSLSSDGVLTVNGPRKQASGPERTIPITREEKPAVTAAPKK',\n",
       " 'MDIAIHHPWIRRPFFPFHSPSRLFDQFFGEHLLESDLFSTATSLSPFYLRPPSFLRAPSWIDTGLSEMRLEKDRFSVNLDVKHFSPEELKVKVLGDVIEVHGKHEERQDEHGFISREFHRKYRIPADVDPLAITSSLSSDGVLTVNGPRKQVSGPERTIPITREEKPAVAAAPKK',\n",
       " 'MDIAIHHPWIRRPFFPFHSPSRLFDQFFGEHLLESDLFPTSTSLSPFYLRPPSFLRAPSWIDTGLSEMRLEKDRFSVNLDVKHFSPEELKVKVLGDVIEVHGKHEERQDEHGFISREFHRKYRIPADVDPLTITSSLSSDGVLTVNGPRKQAPGPERTIPITREEKPAVTAAPKK',\n",
       " 'MDIAIHHPWIRRPFFPFHSPSRLFDQFFGEHLLESDLFSTATSLSPFYLRPPSFLRAPSWIDTGLSEMRMEKDRFSVNLDVKHFSPEELKVKVLGDVIEVHGKHEERQDEHGFISREFHRKYRIPADVDPLTITSSLSSDGVLTVNGPRKQASGPERTIPITREEKPAVTAAPKK',\n",
       " 'MDIAIQHPWLRRPLFPSSIFPSRIFDQNFGEHFDPDLFPSFSSMLSPFYWRMGAPMARMPSWAQTGLSELRLDKDKFAIHLDVKHFTPEELRVKILGDFIEVQAQHEERQDEHGYVSREFHRKYKVPAGVDPLVITCSLSADGVLTITGPRKVADVPERSVPISRDEKPAVAGPQQK']"
      ]
     },
     "execution_count": 12,
     "metadata": {},
     "output_type": "execute_result"
    }
   ],
   "source": [
    "sequences = [str(record.seq ) for record in SeqIO.parse(\"example.fasta\", \"fasta\")]\n",
    "sequences"
   ]
  },
  {
   "cell_type": "code",
   "execution_count": 21,
   "id": "817a4d31",
   "metadata": {},
   "outputs": [],
   "source": [
    "aa_counts = Counter(\"\".join(sequences))"
   ]
  },
  {
   "cell_type": "code",
   "execution_count": 20,
   "id": "ee5ff05f",
   "metadata": {},
   "outputs": [
    {
     "data": {
      "image/png": "[encoded data removed]",
      "text/plain": [
       "<Figure size 640x480 with 1 Axes>"
      ]
     },
     "metadata": {},
     "output_type": "display_data"
    }
   ],
   "source": [
    "plt.bar(aa_counts.keys(), aa_counts.values())\n",
    "plt.title(\"Amino Acic frequency\")\n",
    "plt.show()"
   ]
  },
  {
   "cell_type": "markdown",
   "id": "b95f62dd",
   "metadata": {},
   "source": [
    "## 2. Basic protein embeddings\n",
    "Convert protein sequences into numerical features (manually and with pretrained models)."
   ]
  },
  {
   "cell_type": "markdown",
   "id": "68118a99",
   "metadata": {},
   "source": [
    "- One-hot encoding\n",
    "  + Encode each amino acid as a vector of length 20.\n",
    "\n",
    "- k-mer embeddings (e.g., 3-mer, 4-mer)\n",
    "\n",
    "  + Split sequences into overlapping subwords and count their occurrences.\n",
    "\n",
    "- Physicochemical property vectors\n",
    "\n",
    "  + Use simple AAIndex-based properties like hydrophobicity, charge, polarity."
   ]
  },
  {
   "cell_type": "markdown",
   "id": "10fff543",
   "metadata": {},
   "source": [
    "### 1. One-hot encoding of protein sequences"
   ]
  },
  {
   "cell_type": "code",
   "execution_count": 29,
   "id": "13dcc5b2",
   "metadata": {},
   "outputs": [
    {
     "data": {
      "text/plain": [
       "{'A': 0,\n",
       " 'C': 1,\n",
       " 'D': 2,\n",
       " 'E': 3,\n",
       " 'F': 4,\n",
       " 'G': 5,\n",
       " 'H': 6,\n",
       " 'I': 7,\n",
       " 'K': 8,\n",
       " 'L': 9,\n",
       " 'M': 10,\n",
       " 'N': 11,\n",
       " 'P': 12,\n",
       " 'Q': 13,\n",
       " 'R': 14,\n",
       " 'S': 15,\n",
       " 'T': 16,\n",
       " 'V': 17,\n",
       " 'W': 18,\n",
       " 'Y': 19}"
      ]
     },
     "execution_count": 29,
     "metadata": {},
     "output_type": "execute_result"
    }
   ],
   "source": [
    "AMINO_ACIDS = 'ACDEFGHIKLMNPQRSTVWY'\n",
    "aa_to_idx = {aa: idx for idx, aa in enumerate(AMINO_ACIDS)}\n",
    "aa_to_idx\n"
   ]
  },
  {
   "cell_type": "code",
   "execution_count": 33,
   "id": "21e074a2",
   "metadata": {},
   "outputs": [
    {
     "data": {
      "text/plain": [
       "array([[1., 0., 0., 0., 0., 0., 0., 0., 0., 0., 0., 0., 0., 0., 0., 0.,\n",
       "        0., 0., 0., 0.],\n",
       "       [0., 1., 0., 0., 0., 0., 0., 0., 0., 0., 0., 0., 0., 0., 0., 0.,\n",
       "        0., 0., 0., 0.],\n",
       "       [1., 0., 0., 0., 0., 0., 0., 0., 0., 0., 0., 0., 0., 0., 0., 0.,\n",
       "        0., 0., 0., 0.],\n",
       "       [0., 0., 0., 0., 0., 0., 1., 0., 0., 0., 0., 0., 0., 0., 0., 0.,\n",
       "        0., 0., 0., 0.],\n",
       "       [0., 0., 0., 0., 0., 0., 0., 0., 0., 0., 0., 0., 0., 0., 0., 1.,\n",
       "        0., 0., 0., 0.]])"
      ]
     },
     "execution_count": 33,
     "metadata": {},
     "output_type": "execute_result"
    }
   ],
   "source": [
    "import numpy as np\n",
    "\n",
    "# Define 20 standard amino acids\n",
    "AMINO_ACIDS = 'ACDEFGHIKLMNPQRSTVWY'\n",
    "\n",
    "aa_to_idx = {aa: idx for idx, aa in enumerate(AMINO_ACIDS)}\n",
    "aa_to_idx\n",
    "\n",
    "def one_hot_encode(sequence):\n",
    "    encoding = np.zeros((len(sequence), len(AMINO_ACIDS)))\n",
    "    for i, aa in enumerate(sequence):\n",
    "        if aa in aa_to_idx:\n",
    "            encoding[i, aa_to_idx[aa]] = 1\n",
    "    return encoding\n",
    "sequence = \"ACAHS\"\n",
    "one_hot = one_hot_encode(sequence)\n",
    "one_hot"
   ]
  },
  {
   "cell_type": "markdown",
   "id": "6285d0d8",
   "metadata": {},
   "source": [
    "## 2. K-mer frequency vector\n",
    "Convert a protein sequence into a numerical vector based on frequency of all possible k-mers (k-length subsequences)\n",
    "\n",
    "It is like a bag-of-words in NLP"
   ]
  },
  {
   "cell_type": "code",
   "execution_count": null,
   "id": "8c9064fb",
   "metadata": {},
   "outputs": [
    {
     "name": "stdout",
     "output_type": "stream",
     "text": [
      "All possible kmers 400\n",
      "vector length 400\n",
      "[0 2 0 0 0 0 0 0 0 0 0 0 0 0 0 0 0 0 0 0 0 0 1 0 0 1 0 0 0 0 0 0 0 0 0 0 0\n",
      " 0 0 0 0 0 0 1 0 0 0 0 0 0 0 0 0 0 0 0 0 0 0 0 0 0 0 0 1 0 0 0 0 0 0 0 0 0\n",
      " 0 0 0 0 0 0 1 0 0 0 0 0 0 0 0 0 0 0 0 0 0 0 0 0 0 0 0 0 0 0 0 0 1 0 0 0 0\n",
      " 0 0 0 0 0 0 0 0 0 0 0 0 0 0 0 0 1 0 0 0 0 0 0 0 0 0 0 0 0 0 0 0 0 0 0 0 0\n",
      " 1 0 0 0 0 0 0 0 0 0 0 0 0 0 0 0 0 0 0 0 0 0 0 0 0 0 0 0 0 0 0 0 0 0 0 0 0\n",
      " 0 0 0 0 0 0 0 0 0 0 0 0 0 0 0 0 0 0 0 0 0 0 0 0 0 0 0 0 0 0 0 0 0 0 0 0 0\n",
      " 0 0 0 0 0 0 0 0 0 0 0 0 0 0 0 0 0 0 0 0 0 0 0 0 0 0 0 0 0 0 0 0 0 0 0 0 0\n",
      " 0 0 0 0 0 0 0 0 0 0 0 0 0 0 0 0 0 0 0 0 0 0 0 0 0 0 0 0 0 0 0 0 0 0 0 0 0\n",
      " 0 0 0 0 0 0 0 0 0 0 0 0 0 0 0 0 0 0 0 0 0 0 0 0 0 0 0 0 0 0 0 0 0 0 0 0 0\n",
      " 0 0 0 0 0 0 0 0 0 0 0 0 0 0 0 0 0 0 0 0 0 0 0 0 0 0 0 0 0 0 0 0 0 0 0 0 0\n",
      " 0 0 0 0 0 0 0 0 0 0 0 0 0 0 0 0 0 0 0 0 0 0 0 0 0 0 0 0 0 0]\n"
     ]
    }
   ],
   "source": [
    "from collections import Counter\n",
    "import numpy as np\n",
    "import itertools\n",
    "\n",
    "def get_kmers(sequence, k=3):\n",
    "    return [sequence[i:i + k] for i in range(len(sequence) - k + 1)]\n",
    "\n",
    "# Extract k-mers -> count frequency -> generate all posibilities => create vector\n",
    "def kmer_vector(sequence, k=3):\n",
    "    kmers = get_kmers(sequence, k)\n",
    "    counts = Counter(kmers)\n",
    "    # Generate all possible k-mers (combinations of amino acis of length k)\n",
    "    # k = 2, => 20x20 = 400 possible k-mers\n",
    "    # k = 3 => 20x20x20 = 8000\n",
    "    all_possible_kmers = [''.join(p) for p in itertools.product(AMINO_ACIDS, repeat=k)]\n",
    "    print('All possible kmers', len(all_possible_kmers))\n",
    "    vector = [counts[kmer] for kmer in all_possible_kmers]\n",
    "    return np.array(vector)\n",
    "\n",
    "sequence = \"ACDEFACGHIK\"\n",
    "vec = kmer_vector(sequence, k=2)\n",
    "print(\"vector length\",len(vec))\n",
    "print(vec)"
   ]
  }
 ],
 "metadata": {
  "kernelspec": {
   "display_name": "cs685hw",
   "language": "python",
   "name": "python3"
  },
  "language_info": {
   "codemirror_mode": {
    "name": "ipython",
    "version": 3
   },
   "file_extension": ".py",
   "mimetype": "text/x-python",
   "name": "python",
   "nbconvert_exporter": "python",
   "pygments_lexer": "ipython3",
   "version": "3.10.16"
  }
 },
 "nbformat": 4,
 "nbformat_minor": 5
}
